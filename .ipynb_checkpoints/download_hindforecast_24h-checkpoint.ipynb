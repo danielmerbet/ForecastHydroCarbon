{
 "cells": [
  {
   "cell_type": "markdown",
   "metadata": {
    "papermill": {
     "duration": 0.082814,
     "end_time": "2022-03-14T17:49:45.21891",
     "exception": false,
     "start_time": "2022-03-14T17:49:45.136096",
     "status": "completed"
    },
    "tags": []
   },
   "source": [
    "# Seasonal forecast download and plot for one coordinate"
   ]
  },
  {
   "cell_type": "markdown",
   "metadata": {
    "papermill": {
     "duration": 0.080985,
     "end_time": "2022-03-14T17:49:45.381362",
     "exception": false,
     "start_time": "2022-03-14T17:49:45.300377",
     "status": "completed"
    },
    "tags": []
   },
   "source": [
    "### About"
   ]
  },
  {
   "cell_type": "markdown",
   "metadata": {
    "papermill": {
     "duration": 0.081266,
     "end_time": "2022-03-14T17:49:45.544033",
     "exception": false,
     "start_time": "2022-03-14T17:49:45.462767",
     "status": "completed"
    },
    "tags": []
   },
   "source": [
    "This notebook is based on \"Seasonal Forecast Anomalies\": https://ecmwf-projects.github.io/copernicus-training-c3s/sf-anomalies.html\n",
    "It was mainly modified to use daily resolution instead of monthly.\n",
    "It provides a practical introduction to calculating seasonal forecast with data from the Copernicus Climate Change Service (C3S). C3S seasonal forecast products are based on data from several state-of-the-art seasonal prediction systems. In this tutorial we shall focus on the [ECMWF SEAS5 model](https://confluence.ecmwf.int/display/CKB/Description+of+SEAS5+C3S+contribution), which is one of the forecasting systems available through C3S.\n",
    "\n",
    "The tutorial will demonstrate how to access real-time forecast data of total precipitation, with a forecast start date in May 2023 and 6-7 monthly lead times (up to October 2023). Hindcast data for the same start date and lead-time months in the reference period 1993 to 2016 will also be downloaded. \n",
    "\n",
    "The tutorial will then show how to interpolate in a coordinate for both the forecast and hindcast data. (The climate mean for the reference period will be computed and this reference mean will be subtracted from the real-time forecast data to derive monthly anomalies BORRAR?). These will be visualised as time series. Finally, 3-monthly anomalies will be calculated and visualised in an interactive plot, as a demonstration of how to reproduce similar [charts available through C3S](https://climate.copernicus.eu/charts/c3s_seasonal/)."
   ]
  },
  {
   "cell_type": "markdown",
   "metadata": {
    "papermill": {
     "duration": 0.080595,
     "end_time": "2022-03-14T17:49:45.706112",
     "exception": false,
     "start_time": "2022-03-14T17:49:45.625517",
     "status": "completed"
    },
    "tags": []
   },
   "source": [
    "\n",
    "The notebook has the following outline:\n",
    "* 1 - Download data from the CDS\n",
    "* 2 - Hindcast data \n",
    "* 3 - Real-time forecasts"
   ]
  },
  {
   "cell_type": "markdown",
   "metadata": {},
   "source": [
    "<br>"
   ]
  },
  {
   "cell_type": "markdown",
   "metadata": {},
   "source": [
    "<div class=\"alert alert-block alert-success\">\n",
    "<b>NOTE</b>: <br>\n",
    "    <a href=\"https://cds.climate.copernicus.eu/cdsapp#!/dataset/seasonal-postprocessed-single-levels\">Precomputed anomalies are also available through the CDS</a>. Note these may be slightly different due to minor differences in the way they are computed (e.g. months of constant length, 30 days)  and also due to GRIB packing discretisation. <a href=\"https://confluence.ecmwf.int/display/UDOC/Why+are+there+sometimes+small+negative+precipitation+accumulations+-+ecCodes+GRIB+FAQ\">See here for more detials.</a></div>"
   ]
  },
  {
   "cell_type": "markdown",
   "metadata": {
    "papermill": {
     "duration": 0.080906,
     "end_time": "2022-03-14T17:49:45.869012",
     "exception": false,
     "start_time": "2022-03-14T17:49:45.788106",
     "status": "completed"
    },
    "tags": []
   },
   "source": [
    "Please see here the full documentation of the [C3S Seasonal Forecast Datasets](https://confluence.ecmwf.int/display/CKB/C3S+Seasonal+Forecasts%3A+datasets+documentation). This notebook introduces you to the [seasonal forecast monthly statistics](https://cds.climate.copernicus.eu/cdsapp#!/dataset/seasonal-monthly-single-levels?tab=overview) datasets on single levels (as opposed to multiple levels in the atmosphere)."
   ]
  },
  {
   "cell_type": "markdown",
   "metadata": {
    "papermill": {
     "duration": 0.082989,
     "end_time": "2022-03-14T17:49:46.192983",
     "exception": false,
     "start_time": "2022-03-14T17:49:46.109994",
     "status": "completed"
    },
    "tags": []
   },
   "source": [
    "<style>\n",
    "td, th {\n",
    "   border: 1px solid white;\n",
    "   border-collapse: collapse;\n",
    "}\n",
    "</style>\n",
    "<table align=\"left\">\n",
    "  <tr>\n",
    "    <th>Run the tutorial via free cloud platforms: </th>\n",
    "    <th><a href=\"https://mybinder.org/v2/gh/ecmwf-projects/copernicus-training-c3s/main?labpath=sf-anomalies.ipynb\">\n",
    "        <img src = \"https://mybinder.org/badge.svg\" alt = \"Binder\"></th>\n",
    "    <th><a href=\"https://kaggle.com/kernels/welcome?src=https://github.com/ecmwf-projects/copernicus-training-c3s/blob/main/sf-anomalies.ipynb\">\n",
    "        <img src = \"https://kaggle.com/static/images/open-in-kaggle.svg\" alt = \"Kaggle\"></th>\n",
    "    <th><a href=\"https://colab.research.google.com/github/ecmwf-projects/copernicus-training-c3s/blob/main/sf-anomalies.ipynb\">\n",
    "        <img src = \"https://colab.research.google.com/assets/colab-badge.svg\" alt = \"Colab\"></th>\n",
    "  </tr>\n",
    "</table>"
   ]
  },
  {
   "cell_type": "markdown",
   "metadata": {
    "papermill": {
     "duration": 0.081673,
     "end_time": "2022-03-14T17:49:46.520252",
     "exception": false,
     "start_time": "2022-03-14T17:49:46.438579",
     "status": "completed"
    },
    "tags": []
   },
   "source": [
    "<hr>"
   ]
  },
  {
   "cell_type": "markdown",
   "metadata": {
    "papermill": {
     "duration": 0.081079,
     "end_time": "2022-03-14T17:49:46.683509",
     "exception": false,
     "start_time": "2022-03-14T17:49:46.60243",
     "status": "completed"
    },
    "tags": []
   },
   "source": [
    "### Install packages"
   ]
  },
  {
   "cell_type": "code",
   "execution_count": null,
   "metadata": {
    "papermill": {
     "duration": 12.174934,
     "end_time": "2022-03-14T17:49:58.941932",
     "exception": false,
     "start_time": "2022-03-14T17:49:46.766998",
     "status": "completed"
    },
    "tags": []
   },
   "outputs": [],
   "source": [
    "# Install CDS API for downloading data from the CDS\n",
    "#!pip install cdsapi"
   ]
  },
  {
   "cell_type": "code",
   "execution_count": null,
   "metadata": {
    "papermill": {
     "duration": 127.036612,
     "end_time": "2022-03-14T17:52:06.036378",
     "exception": false,
     "start_time": "2022-03-14T17:49:58.999766",
     "status": "completed"
    },
    "tags": []
   },
   "outputs": [],
   "source": [
    "# Install cfgrib to enable us to read GRIB format files\n",
    "#!conda install -c conda-forge cfgrib -y"
   ]
  },
  {
   "cell_type": "code",
   "execution_count": 3,
   "metadata": {
    "papermill": {
     "duration": 2.519057,
     "end_time": "2022-03-14T17:52:09.394032",
     "exception": false,
     "start_time": "2022-03-14T17:52:06.874975",
     "status": "completed"
    },
    "tags": []
   },
   "outputs": [],
   "source": [
    "# Miscellaneous operating system interfaces\n",
    "import os\n",
    "\n",
    "# CDS API\n",
    "import cdsapi\n",
    "\n",
    "# To map GRIB files to NetCDF Common Data Model\n",
    "import cfgrib\n",
    "\n",
    "# Libraries for working with multi-dimensional arrays\n",
    "import numpy as np\n",
    "import xarray as xr\n",
    "import pandas as pd\n",
    "import scipy\n",
    "\n",
    "# Libraries for plotting and geospatial data visualisation\n",
    "import matplotlib.path as mpath\n",
    "import matplotlib.pyplot as plt\n",
    "\n",
    "import cartopy.crs as ccrs\n",
    "from cartopy.mpl.gridliner import LONGITUDE_FORMATTER, LATITUDE_FORMATTER\n",
    "import cartopy.feature as cfeature\n",
    "\n",
    "# To work with data labels in dictionary format\n",
    "from collections import OrderedDict\n",
    "\n",
    "# Date and time related libraries\n",
    "from dateutil.relativedelta import relativedelta\n",
    "from calendar import monthrange\n",
    "import datetime\n",
    "\n",
    "# Interactive HTML widgets\n",
    "import ipywidgets as widgets\n",
    "\n",
    "# Disable warnings for data download via API\n",
    "import urllib3 \n",
    "urllib3.disable_warnings()"
   ]
  },
  {
   "cell_type": "markdown",
   "metadata": {
    "papermill": {
     "duration": 0.359685,
     "end_time": "2022-03-14T17:52:10.17792",
     "exception": false,
     "start_time": "2022-03-14T17:52:09.818235",
     "status": "completed"
    },
    "tags": []
   },
   "source": [
    "<hr>"
   ]
  },
  {
   "cell_type": "code",
   "execution_count": 3,
   "metadata": {
    "papermill": {
     "duration": 0.274576,
     "end_time": "2022-03-14T17:52:10.724408",
     "exception": false,
     "start_time": "2022-03-14T17:52:10.449832",
     "status": "completed"
    },
    "tags": []
   },
   "outputs": [],
   "source": [
    "## 1. Request data from the CDS programmatically with the CDS API"
   ]
  },
  {
   "cell_type": "markdown",
   "metadata": {
    "papermill": {
     "duration": 0.317649,
     "end_time": "2022-03-14T17:52:11.316089",
     "exception": false,
     "start_time": "2022-03-14T17:52:10.99844",
     "status": "completed"
    },
    "tags": []
   },
   "source": [
    "The first step is to request data from the Climate Data Store programmatically with the help of the CDS API. Let us make use of the option to manually set the CDS API credentials. First, you have to define two variables: `URL` and `KEY` which build together your CDS API key. Below, you have to replace the `#########` with your personal CDS key. Please find [here](https://cds.climate.copernicus.eu/api-how-to) your personal CDS key."
   ]
  },
  {
   "cell_type": "code",
   "execution_count": 8,
   "metadata": {
    "papermill": {
     "duration": 0.431818,
     "end_time": "2022-03-14T17:52:12.171912",
     "exception": false,
     "start_time": "2022-03-14T17:52:11.740094",
     "status": "completed"
    },
    "tags": []
   },
   "outputs": [],
   "source": [
    "URL = 'https://cds.climate.copernicus.eu/api/v2'\n",
    "KEY = '5596:e5a0ace8-18ac-417c-96a5-ecb447a7eb20'\n",
    "variable_name = 'total_precipitation'\n",
    "var_short = 'tp'\n",
    "month_num = 5\n",
    "forecast_year = 2023"
   ]
  },
  {
   "cell_type": "markdown",
   "metadata": {},
   "source": [
    "Here we specify a data directory in which we will download our data and all output files that we will generate:"
   ]
  },
  {
   "cell_type": "code",
   "execution_count": 9,
   "metadata": {},
   "outputs": [],
   "source": [
    "DATADIR = '/home/daniel/Documents/intoDBP/input/seasonal'"
   ]
  },
  {
   "cell_type": "markdown",
   "metadata": {
    "papermill": {
     "duration": 0.42258,
     "end_time": "2022-03-14T17:52:13.01783",
     "exception": false,
     "start_time": "2022-03-14T17:52:12.59525",
     "status": "completed"
    },
    "tags": []
   },
   "source": [
    "The next step is then to request the seasonal forecast daily data on single levels with the help of the CDS API. \n",
    "Below, we download two separate files of the variable for six monthly lead times.\n",
    "For instance to start date in May: \n",
    "                                                                                                                                                             \n",
    "* **Retrospective forecasts (Hindcasts) for 1993 to 2016**\n",
    "* **Forecasts for May 2023**\n",
    "\n",
    "Seasonal forecast data are disseminated in the GRIB data format. Let us store the data in the main working directory with the names: \n",
    "* `ecmwf_seas5_1993_2016_05_hindcast_daily_tp.grib` and \n",
    "* `ecmwf_seas5_2023_05_forecast_daily_tp.grib`.\n",
    "\n",
    "Running the code block below will download the data from the CDS as specified by the following API keywords:\n",
    "\n",
    "> **Format**: `Grib` <br>\n",
    "> **Originating centre**: `ECMWF` <br>\n",
    "> **System**: `5` *this refers to SEAS5* <br>\n",
    "> **Variable**: `Total precipitation` or `2m temperature` <br>\n",
    "> **Product type**: `Monthly mean` *all ensemble members will be retrieved* <br>\n",
    "> **Year**: `1993 to 2016` *for the hindcast* `2023` *for the forecast* <br>\n",
    "> **Month**: `5` *May* <br>\n",
    "> **Leadtime month**: `1 to 6` *May to October*"
   ]
  },
  {
   "cell_type": "markdown",
   "metadata": {},
   "source": [
    "If you have not already done so, you will need to accept the **terms & conditions** of the data before you can download it. These can be viewed and accepted in the [CDS download page](https://cds.climate.copernicus.eu/cdsapp#!/dataset/seasonal-monthly-single-levels?tab=form) by scrolling to the end of the download form."
   ]
  },
  {
   "cell_type": "markdown",
   "metadata": {},
   "source": [
    "<div class=\"alert alert-block alert-success\">\n",
    "<b>NOTE</b>: <br>\n",
    "    The API request below can be generated automatically from the <a href=\"https://cds.climate.copernicus.eu/cdsapp#!/dataset/seasonal-monthly-single-levels?tab=form\">CDS download page</a>. At the end of the download form there is a <code>Show API request</code> icon, which allows a copy-paste of the code below.</div>"
   ]
  },
  {
   "cell_type": "code",
   "execution_count": 20,
   "metadata": {
    "papermill": {
     "duration": 307.378243,
     "end_time": "2022-03-14T17:57:27.00603",
     "exception": false,
     "start_time": "2022-03-14T17:52:19.627787",
     "status": "completed"
    },
    "tags": []
   },
   "outputs": [
    {
     "name": "stderr",
     "output_type": "stream",
     "text": [
      "2024-04-18 20:18:54,890 INFO Welcome to the CDS\n",
      "2024-04-18 20:18:54,891 INFO Sending request to https://cds.climate.copernicus.eu/api/v2/resources/seasonal-original-single-levels\n",
      "2024-04-18 20:18:55,003 INFO Request is completed\n",
      "2024-04-18 20:18:55,005 INFO Downloading https://download-0010-clone.copernicus-climate.eu/cache-compute-0010/cache/data1/adaptor.mars.external-1713433863.581071-17226-4-097efc6a-bd6f-46bc-8bf6-c96cea95ba4c.grib to /home/daniel/Documents/intoDBP/input/seasonal/ecmwf_seas5_1993-2016_5_hindcast_daily_tp.grib (29.5M)\n",
      "2024-04-18 20:19:05,391 INFO Download rate 2.8M/s                                                                                                                                                          \n"
     ]
    },
    {
     "data": {
      "text/plain": [
       "Result(content_length=30960000,content_type=application/x-grib,location=https://download-0010-clone.copernicus-climate.eu/cache-compute-0010/cache/data1/adaptor.mars.external-1713433863.581071-17226-4-097efc6a-bd6f-46bc-8bf6-c96cea95ba4c.grib)"
      ]
     },
     "execution_count": 20,
     "metadata": {},
     "output_type": "execute_result"
    }
   ],
   "source": [
    "c = cdsapi.Client(url=URL, key=KEY)\n",
    "\n",
    "# Hindcast data request\n",
    "c.retrieve(\n",
    "    'seasonal-original-single-levels',\n",
    "    {\n",
    "        'format': 'grib',\n",
    "        'originating_centre': 'ecmwf',\n",
    "        'system': '5',\n",
    "        'variable': variable_name,\n",
    "        'year': [\n",
    "            '1993', '1994', '1995',\n",
    "            '1996', '1997', '1998',\n",
    "            '1999', '2000', '2001',\n",
    "            '2002', '2003', '2004',\n",
    "            '2005', '2006', '2007',\n",
    "            '2008', '2009', '2010',\n",
    "            '2011', '2012', '2013',\n",
    "            '2014', '2015', '2016'\n",
    "        ],\n",
    "        'month': month_num,\n",
    "        'day': '01',\n",
    "        'leadtime_hour': [\n",
    "            '24', '48', '72',\n",
    "            '96', '120', '144',\n",
    "            '168', '192', '216',\n",
    "            '240', '264', '288',\n",
    "            '312', '336', '360',\n",
    "            '384', '408', '432',\n",
    "            '456', '480', '504',\n",
    "            '528', '552', '576',\n",
    "            '600', '624', '648',\n",
    "            '672', '696', '720',\n",
    "            '744', '768', '792',\n",
    "            '816', '840', '864',\n",
    "            '888', '912', '936',\n",
    "            '960', '984', '1008',\n",
    "            '1032', '1056', '1080',\n",
    "            '1104', '1128', '1152',\n",
    "            '1176', '1200', '1224',\n",
    "            '1248', '1272', '1296',\n",
    "            '1320', '1344', '1368',\n",
    "            '1392', '1416', '1440',\n",
    "            '1464', '1488', '1512',\n",
    "            '1536', '1560', '1584',\n",
    "            '1608', '1632', '1656',\n",
    "            '1680', '1704', '1728',\n",
    "            '1752', '1776', '1800',\n",
    "            '1824', '1848', '1872',\n",
    "            '1896', '1920', '1944',\n",
    "            '1968', '1992', '2016',\n",
    "            '2040', '2064', '2088',\n",
    "            '2112', '2136', '2160',\n",
    "            '2184', '2208', '2232',\n",
    "            '2256', '2280', '2304',\n",
    "            '2328', '2352', '2376',\n",
    "            '2400', '2424', '2448',\n",
    "            '2472', '2496', '2520',\n",
    "            '2544', '2568', '2592',\n",
    "            '2616', '2640', '2664',\n",
    "            '2688', '2712', '2736',\n",
    "            '2760', '2784', '2808',\n",
    "            '2832', '2856', '2880',\n",
    "            '2904', '2928', '2952',\n",
    "            '2976', '3000', '3024',\n",
    "            '3048', '3072', '3096',\n",
    "            '3120', '3144', '3168',\n",
    "            '3192', '3216', '3240',\n",
    "            '3264', '3288', '3312',\n",
    "            '3336', '3360', '3384',\n",
    "            '3408', '3432', '3456',\n",
    "            '3480', '3504', '3528',\n",
    "            '3552', '3576', '3600',\n",
    "            '3624', '3648', '3672',\n",
    "            '3696', '3720', '3744',\n",
    "            '3768', '3792', '3816',\n",
    "            '3840', '3864', '3888',\n",
    "            '3912', '3936', '3960',\n",
    "            '3984', '4008', '4032',\n",
    "            '4056', '4080', '4104',\n",
    "            '4128', '4152', '4176',\n",
    "            '4200', '4224', '4248',\n",
    "            '4272', '4296', '4320',\n",
    "            '4344', '4368', '4392',\n",
    "            '4416', '4440', '4464',\n",
    "            '4488', '4512', '4536',\n",
    "            '4560', '4584', '4608',\n",
    "            '4632', '4656', '4680',\n",
    "            '4704', '4728', '4752',\n",
    "            '4776', '4800', '4824',\n",
    "            '4848', '4872', '4896',\n",
    "            '4920', '4944', '4968',\n",
    "            '4992', '5016', '5040',\n",
    "            '5064', '5088', '5112',\n",
    "            '5136', '5160',\n",
    "        ],\n",
    "        'area': [\n",
    "            43, 2, 42,\n",
    "            3,\n",
    "        ],\n",
    "    },\n",
    "    f'{DATADIR}/ecmwf_seas5_1993-2016_'+ str(month_num) + '_hindcast_daily_' + var_short + '.grib')"
   ]
  },
  {
   "cell_type": "code",
   "execution_count": 21,
   "metadata": {},
   "outputs": [
    {
     "name": "stderr",
     "output_type": "stream",
     "text": [
      "2024-04-18 20:21:12,317 INFO Welcome to the CDS\n",
      "2024-04-18 20:21:12,318 INFO Sending request to https://cds.climate.copernicus.eu/api/v2/resources/seasonal-original-single-levels\n",
      "2024-04-18 20:21:12,628 INFO Downloading https://download-0018.copernicus-climate.eu/cache-compute-0018/cache/data7/adaptor.mars.external-1713437280.8940856-18060-7-ab119f0e-2b0f-40f6-bcff-6338b54c7ec2.grib to /home/daniel/Documents/intoDBP/input/seasonal/ecmwf_seas5_2023_5_forecast_daily_tp.grib (2.5M)\n",
      "2024-04-18 20:21:13,590 INFO Download rate 2.6M/s                                                                                                                                                          \n"
     ]
    },
    {
     "data": {
      "text/plain": [
       "Result(content_length=2631600,content_type=application/x-grib,location=https://download-0018.copernicus-climate.eu/cache-compute-0018/cache/data7/adaptor.mars.external-1713437280.8940856-18060-7-ab119f0e-2b0f-40f6-bcff-6338b54c7ec2.grib)"
      ]
     },
     "execution_count": 21,
     "metadata": {},
     "output_type": "execute_result"
    }
   ],
   "source": [
    "# Forecast data request\n",
    "c.retrieve(\n",
    "    'seasonal-original-single-levels',\n",
    "    {\n",
    "        'format': 'grib',\n",
    "        'originating_centre': 'ecmwf',\n",
    "        'system': '51',\n",
    "        'variable': variable_name,\n",
    "        'year': '2023',\n",
    "        'month': month_num,\n",
    "        'day': '01',\n",
    "        'leadtime_hour': [\n",
    "            '24', '48', '72',\n",
    "            '96', '120', '144',\n",
    "            '168', '192', '216',\n",
    "            '240', '264', '288',\n",
    "            '312', '336', '360',\n",
    "            '384', '408', '432',\n",
    "            '456', '480', '504',\n",
    "            '528', '552', '576',\n",
    "            '600', '624', '648',\n",
    "            '672', '696', '720',\n",
    "            '744', '768', '792',\n",
    "            '816', '840', '864',\n",
    "            '888', '912', '936',\n",
    "            '960', '984', '1008',\n",
    "            '1032', '1056', '1080',\n",
    "            '1104', '1128', '1152',\n",
    "            '1176', '1200', '1224',\n",
    "            '1248', '1272', '1296',\n",
    "            '1320', '1344', '1368',\n",
    "            '1392', '1416', '1440',\n",
    "            '1464', '1488', '1512',\n",
    "            '1536', '1560', '1584',\n",
    "            '1608', '1632', '1656',\n",
    "            '1680', '1704', '1728',\n",
    "            '1752', '1776', '1800',\n",
    "            '1824', '1848', '1872',\n",
    "            '1896', '1920', '1944',\n",
    "            '1968', '1992', '2016',\n",
    "            '2040', '2064', '2088',\n",
    "            '2112', '2136', '2160',\n",
    "            '2184', '2208', '2232',\n",
    "            '2256', '2280', '2304',\n",
    "            '2328', '2352', '2376',\n",
    "            '2400', '2424', '2448',\n",
    "            '2472', '2496', '2520',\n",
    "            '2544', '2568', '2592',\n",
    "            '2616', '2640', '2664',\n",
    "            '2688', '2712', '2736',\n",
    "            '2760', '2784', '2808',\n",
    "            '2832', '2856', '2880',\n",
    "            '2904', '2928', '2952',\n",
    "            '2976', '3000', '3024',\n",
    "            '3048', '3072', '3096',\n",
    "            '3120', '3144', '3168',\n",
    "            '3192', '3216', '3240',\n",
    "            '3264', '3288', '3312',\n",
    "            '3336', '3360', '3384',\n",
    "            '3408', '3432', '3456',\n",
    "            '3480', '3504', '3528',\n",
    "            '3552', '3576', '3600',\n",
    "            '3624', '3648', '3672',\n",
    "            '3696', '3720', '3744',\n",
    "            '3768', '3792', '3816',\n",
    "            '3840', '3864', '3888',\n",
    "            '3912', '3936', '3960',\n",
    "            '3984', '4008', '4032',\n",
    "            '4056', '4080', '4104',\n",
    "            '4128', '4152', '4176',\n",
    "            '4200', '4224', '4248',\n",
    "            '4272', '4296', '4320',\n",
    "            '4344', '4368', '4392',\n",
    "            '4416', '4440', '4464',\n",
    "            '4488', '4512', '4536',\n",
    "            '4560', '4584', '4608',\n",
    "            '4632', '4656', '4680',\n",
    "            '4704', '4728', '4752',\n",
    "            '4776', '4800', '4824',\n",
    "            '4848', '4872', '4896',\n",
    "            '4920', '4944', '4968',\n",
    "            '4992', '5016', '5040',\n",
    "            '5064', '5088', '5112',\n",
    "            '5136', '5160',\n",
    "        ],\n",
    "        'area': [\n",
    "            43, 2, 42,\n",
    "            3,\n",
    "        ],\n",
    "    },\n",
    "    f'{DATADIR}/ecmwf_seas5_'+ str(forecast_year) + '_' + str(month_num) + '_forecast_daily_' + var_short + '.grib')"
   ]
  },
  {
   "cell_type": "markdown",
   "metadata": {
    "papermill": {
     "duration": 0.368522,
     "end_time": "2022-03-14T17:57:28.49451",
     "exception": false,
     "start_time": "2022-03-14T17:57:28.125988",
     "status": "completed"
    },
    "tags": []
   },
   "source": [
    "## 2. Seasonal hindcast climate "
   ]
  },
  {
   "cell_type": "markdown",
   "metadata": {
    "papermill": {
     "duration": 0.371357,
     "end_time": "2022-03-14T17:57:29.239376",
     "exception": false,
     "start_time": "2022-03-14T17:57:28.868019",
     "status": "completed"
    },
    "tags": []
   },
   "source": [
    "Seasonal forecasts are affected by systematic errors (biases) which are dependent on the leadtime, the time of year, the variable and the location. Hindcast data can help us to understand and account for these biases. We will see the hindcast climate for each lead time month, over the years 1993 to 2016.\n",
    "\n",
    "#### Read the downloaded data\n",
    "\n",
    "We will use the Python library [xarray](http://xarray.pydata.org/en/stable/) and its function `open_dataset` to read the GRIB file of the hindcast data, specifying the keyword argument `engine` and `'cfgrib'`. [cfgrib](https://github.com/ecmwf/cfgrib) is a Python interface to map GRIB files to the NetCDF Common Data Model using [ecCodes](https://github.com/ecmwf/eccodes).\n",
    "\n",
    "The result is a `xarray.Dataset` object with five dimensions:\n",
    "\n",
    "> **Number**: Ensemble members (25) <br>\n",
    "> **Time**: Forecast start date for each year (1st of May) <br>\n",
    "> **Step**: Lead time (nanoseconds in each leadtime month) <br>\n",
    "> **Latitude**: Latitudes in 1 deg resolution<br>\n",
    "> **Longitude**: Longitudes in 1 deg resolution and in 0-360 grid<br>"
   ]
  },
  {
   "cell_type": "code",
   "execution_count": 10,
   "metadata": {
    "papermill": {
     "duration": 0.564456,
     "end_time": "2022-03-14T17:57:30.177156",
     "exception": true,
     "start_time": "2022-03-14T17:57:29.6127",
     "status": "failed"
    },
    "tags": []
   },
   "outputs": [],
   "source": [
    "hind = xr.open_dataset(f'{DATADIR}/ecmwf_seas5_1993-2016_'+ str(month_num) + '_hindcast_daily_' + var_short + '.grib', engine='cfgrib')"
   ]
  },
  {
   "cell_type": "markdown",
   "metadata": {
    "papermill": {
     "duration": null,
     "end_time": null,
     "exception": null,
     "start_time": null,
     "status": "pending"
    },
    "tags": []
   },
   "source": [
    "#### Extract data array from dataset\n",
    "\n",
    "The `xarray.Dataset` object into which we have read the data from the downloaded GRIB files may contain arrays of multiple variables (even if we have only one: total precipitation). Another xarray data structure, `xarray.DataArray`, facilitates operations on single variables. We will use this to further process our data. You can select the relevant DataArray from a Dataset by specifying the name of the variable (in our case `tprate`) in square brackets `[]`. "
   ]
  },
  {
   "cell_type": "code",
   "execution_count": 11,
   "metadata": {
    "papermill": {
     "duration": null,
     "end_time": null,
     "exception": null,
     "start_time": null,
     "status": "pending"
    },
    "tags": []
   },
   "outputs": [],
   "source": [
    "hind_var = hind[var_short]"
   ]
  },
  {
   "cell_type": "code",
   "execution_count": 12,
   "metadata": {},
   "outputs": [],
   "source": [
    "# Define the coordinates to interpolate to\n",
    "interp_latitude = 41.5\n",
    "interp_longitude = 2.5\n",
    "\n",
    "# Interpolate the values for the specified coordinates\n",
    "hind_interp = hind_var.interp(latitude=interp_latitude, longitude=interp_longitude, method=\"nearest\")"
   ]
  },
  {
   "cell_type": "code",
   "execution_count": null,
   "metadata": {},
   "outputs": [],
   "source": []
  },
  {
   "cell_type": "code",
   "execution_count": 33,
   "metadata": {},
   "outputs": [],
   "source": [
    "year_subset = '2009-05-01T00:00:00.000000000'\n",
    "subset_hind = hind_interp.sel(time=year_subset)"
   ]
  },
  {
   "cell_type": "markdown",
   "metadata": {},
   "source": [
    "Total precipitation data is accumulated in time, to get the daily value the np.diff() is applied"
   ]
  },
  {
   "cell_type": "code",
   "execution_count": 34,
   "metadata": {},
   "outputs": [],
   "source": [
    "num_members = len(subset_hind)\n",
    "subset_hind_diff = subset_hind.diff(dim='step') # by default does it along the last axis "
   ]
  },
  {
   "cell_type": "markdown",
   "metadata": {
    "papermill": {
     "duration": null,
     "end_time": null,
     "exception": null,
     "start_time": null,
     "status": "pending"
    },
    "tags": []
   },
   "source": [
    "## 3. Seasonal forecast data"
   ]
  },
  {
   "cell_type": "markdown",
   "metadata": {
    "papermill": {
     "duration": null,
     "end_time": null,
     "exception": null,
     "start_time": null,
     "status": "pending"
    },
    "tags": []
   },
   "source": [
    "The next step is to load the real-time seasonal forecast data for 6 lead time months. (BORRAR?) We will then subtract the hindcast climatology from this to derive the anomalies. \n"
   ]
  },
  {
   "cell_type": "code",
   "execution_count": 40,
   "metadata": {
    "papermill": {
     "duration": null,
     "end_time": null,
     "exception": null,
     "start_time": null,
     "status": "pending"
    },
    "tags": []
   },
   "outputs": [],
   "source": [
    "fore = xr.open_dataset(f'{DATADIR}/ecmwf_seas5_'+ str(forecast_year) + '_' + str(month_num) + '_forecast_daily_' + var_short + '.grib', engine='cfgrib')"
   ]
  },
  {
   "cell_type": "markdown",
   "metadata": {},
   "source": [
    "Once the `xarray.Dataset` is loaded, you see that it has 4 dimensions:\n",
    "> **Number**: 51 ensemble members <br>\n",
    "> **ForecastMonth**: 6 leadtime months <br>\n",
    "> **Latitude**: latitude values <br>\n",
    "> **Longitude**: longitude values <br>\n",
    "\n",
    "Compared to the hindcast data, we have only a single start date (e.g., May 2023) in the `time` coordinate. Another difference is that seasonal forecast real-time data have 51 ensemble members, compared to hindcasts, which only have 25 ensemble members."
   ]
  },
  {
   "cell_type": "code",
   "execution_count": 41,
   "metadata": {
    "papermill": {
     "duration": null,
     "end_time": null,
     "exception": null,
     "start_time": null,
     "status": "pending"
    },
    "tags": []
   },
   "outputs": [],
   "source": [
    "fore_var = fore[var_short]"
   ]
  },
  {
   "cell_type": "markdown",
   "metadata": {
    "papermill": {
     "duration": null,
     "end_time": null,
     "exception": null,
     "start_time": null,
     "status": "pending"
    },
    "tags": []
   },
   "source": [
    "#### Convert forecast lead time month into dates (AUN NO)\n"
   ]
  },
  {
   "cell_type": "code",
   "execution_count": 44,
   "metadata": {},
   "outputs": [],
   "source": [
    "# Interpolate the values for the specified coordinates\n",
    "fore_interp = fore_var.interp(latitude=interp_latitude, longitude=interp_longitude, method=\"nearest\")"
   ]
  },
  {
   "cell_type": "code",
   "execution_count": 45,
   "metadata": {},
   "outputs": [],
   "source": [
    "num_members = len(fore_interp)\n",
    "fore_diff = fore_interp.diff(dim='step') # by default does it along the last axis "
   ]
  },
  {
   "cell_type": "code",
   "execution_count": 46,
   "metadata": {},
   "outputs": [
    {
     "data": {
      "image/png": "[encoded data removed]",
      "text/plain": [
       "<Figure size 640x480 with 1 Axes>"
      ]
     },
     "metadata": {},
     "output_type": "display_data"
    }
   ],
   "source": [
    "\n",
    "\n",
    "for i in range(num_members):\n",
    "    # Select the subset of data for the current number\n",
    "    subset = fore_diff.sel(number=i)*1000\n",
    "    \n",
    "    # Plotting\n",
    "    plt.plot(subset, color='gray', alpha=0.5, label=f'Number {i}')\n",
    "\n",
    "#plot average in black\n",
    "plt.plot(fore_diff.mean(dim='number')*1000, color='black')\n",
    "\n",
    "# Add labels and title\n",
    "plt.xlabel('Days')\n",
    "plt.ylabel('tp (mm/day)')\n",
    "plt.title('Data for each number')\n",
    "#plt.legend()  # Add legend to differentiate lines\n",
    "plt.show()\n"
   ]
  }
 ],
 "metadata": {
  "kernelspec": {
   "display_name": "python3.12.2",
   "language": "python",
   "name": "python3.12.2"
  },
  "language_info": {
   "codemirror_mode": {
    "name": "ipython",
    "version": 3
   },
   "file_extension": ".py",
   "mimetype": "text/x-python",
   "name": "python",
   "nbconvert_exporter": "python",
   "pygments_lexer": "ipython3",
   "version": "3.12.2"
  }
 },
 "nbformat": 4,
 "nbformat_minor": 4
}
